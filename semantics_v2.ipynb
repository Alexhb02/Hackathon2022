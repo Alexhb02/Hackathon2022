{
 "cells": [
  {
   "cell_type": "code",
   "execution_count": 1,
   "metadata": {},
   "outputs": [],
   "source": [
    "# import packages\n",
    "import sys\n",
    "import pandas as pd\n",
    "from nrclex import NRCLex"
   ]
  },
  {
   "cell_type": "code",
   "execution_count": 4,
   "metadata": {},
   "outputs": [],
   "source": [
    "# to gather semantic data\n",
    "def getSemantics(text):\n",
    "    data = NRCLex(text)\n",
    "    top_emotions = data.top_emotions\n",
    "\n",
    "    # get only the emotions without the value score and return the top 3 emotions\n",
    "    emotions_wo_score = [emotion[0] for emotion in top_emotions]\n",
    "    if len(emotions_wo_score > 3):\n",
    "        return emotions_wo_score[0:3]\n",
    "    else:\n",
    "        return emotions_wo_score"
   ]
  },
  {
   "cell_type": "code",
   "execution_count": null,
   "metadata": {},
   "outputs": [],
   "source": [
    "# called when script is called\n",
    "def main():\n",
    "    print(getSemantics(sys.argv[1]))"
   ]
  },
  {
   "cell_type": "code",
   "execution_count": 5,
   "metadata": {},
   "outputs": [
    {
     "name": "stdout",
     "output_type": "stream",
     "text": [
      "['trust', 'positive', 'joy']\n"
     ]
    }
   ],
   "source": [
    "print(getSemantics('Happiness can never be seen, it can only be felt by the one who get it. Happiness is said to be an individual’s beliefs, faith, desires and aspirations'))"
   ]
  },
  {
   "cell_type": "code",
   "execution_count": null,
   "metadata": {},
   "outputs": [],
   "source": []
  }
 ],
 "metadata": {
  "interpreter": {
   "hash": "018424330fd2776b878de25387691c469f53901b81fab446e5c14eecfc2492a5"
  },
  "kernelspec": {
   "display_name": "Python 3.8.8 ('base')",
   "language": "python",
   "name": "python3"
  },
  "language_info": {
   "codemirror_mode": {
    "name": "ipython",
    "version": 3
   },
   "file_extension": ".py",
   "mimetype": "text/x-python",
   "name": "python",
   "nbconvert_exporter": "python",
   "pygments_lexer": "ipython3",
   "version": "3.8.8"
  },
  "orig_nbformat": 4
 },
 "nbformat": 4,
 "nbformat_minor": 2
}
